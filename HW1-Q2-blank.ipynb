{
 "cells": [
  {
   "cell_type": "markdown",
   "metadata": {},
   "source": [
    "# Homework 1 Question 3 \n",
    "\n",
    "We have the rate law\n",
    "$$r = -k C_{A}^{2}$$\n",
    "and the final conversion\n",
    "$$X_f = 0.98$$\n",
    "which in a batch reactor would take\n",
    "$$t_\\text{batch} = 12\\text{ hours} $$\n",
    "but for our flow reactors \n",
    "$$v = 0.8\\text{ m$^3$/hour}$$\n",
    "First, set the parameters"
   ]
  },
  {
   "cell_type": "code",
   "execution_count": null,
   "metadata": {
    "collapsed": false
   },
   "outputs": [],
   "source": []
  },
  {
   "cell_type": "markdown",
   "metadata": {},
   "source": [
    "By integrating the batch reactor design equation we can find $(k C_{A0})$:\n",
    "\n",
    "$$t_\\text{batch} = \\int\\frac{dC_A}{-k C_A^2}= \\int\\frac{-C_{A0} dX}{-k C_{A0}^2(1-X)^2}$$\n",
    "\n",
    "$$k C_{A0} = \\frac{-\\left(1-\\frac{1}{(1-X_f)}\\right) }{t_\\text{batch}}$$\n"
   ]
  },
  {
   "cell_type": "code",
   "execution_count": null,
   "metadata": {
    "collapsed": false
   },
   "outputs": [],
   "source": []
  },
  {
   "cell_type": "markdown",
   "metadata": {},
   "source": [
    "An underestimate of total volume would be if it were one PFR:"
   ]
  },
  {
   "cell_type": "code",
   "execution_count": null,
   "metadata": {
    "collapsed": false
   },
   "outputs": [],
   "source": []
  },
  {
   "cell_type": "markdown",
   "metadata": {},
   "source": [
    "An overestimate of total volume would be if it were one CSTR:"
   ]
  },
  {
   "cell_type": "code",
   "execution_count": null,
   "metadata": {
    "collapsed": false
   },
   "outputs": [],
   "source": []
  },
  {
   "cell_type": "markdown",
   "metadata": {},
   "source": [
    "This is such a wide range that we had better do something more precise!\n",
    "It is better modelled as 6 CSTRs in series, one for each compartment, with volumes $V_c$. For each compartment:\n",
    "\n",
    "$$ V_c = \\frac{-(F_{Ai} - F_{A(i-1)})}{kC_{Ai}^{2}} $$\n",
    "\n",
    "Substitute to be in terms of conversion of A:\n",
    "$$ V_c = \\frac{-v_{0} C_{A0} (X_{i} - X_{(i-1)})}{ k C_{A0}^2(1-X_{i})^{2} }$$\n",
    "\n",
    "Then refactor the equation for $X_{(i-1)}$\n",
    "$$X_{(i-1)} = X_{i} - k C_{A0}(V_c/v_{0}) (1-X_{i})^{2} $$\n",
    "\n",
    "Let $j = i-1$:\n",
    "$$X_{j} = X_{(j+1)} - k C_{A0}(V_c/v_{0}) (1-X_{(j+1)})^{2} $$\n",
    "\n",
    "\n",
    "And we know that when $V_c$ is correct $X_6 = 0.98$ and $X_0 = 0$.\n",
    "\n",
    "Let's define one function for $X_j = f_1(j, V_c)$ (which calls itself -- a recursive function), and another for $X_0= f_2(V_c)$"
   ]
  },
  {
   "cell_type": "code",
   "execution_count": null,
   "metadata": {
    "collapsed": true
   },
   "outputs": [],
   "source": []
  },
  {
   "cell_type": "markdown",
   "metadata": {},
   "source": [
    "We want to find the $V_c$ so that $X_0= f_2(V_c) = 0$. Or in Python terms the value of `V_compartment` that will give \n",
    "```python\n",
    "zeroth_X(V_compartment) == 0.0\n",
    "```\n",
    "Let's guess a few"
   ]
  },
  {
   "cell_type": "code",
   "execution_count": null,
   "metadata": {
    "collapsed": false
   },
   "outputs": [],
   "source": []
  },
  {
   "cell_type": "code",
   "execution_count": null,
   "metadata": {
    "collapsed": false
   },
   "outputs": [],
   "source": []
  },
  {
   "cell_type": "code",
   "execution_count": null,
   "metadata": {
    "collapsed": false
   },
   "outputs": [],
   "source": []
  },
  {
   "cell_type": "markdown",
   "metadata": {},
   "source": [
    "Surely we can do better than guess and check? We have Python and all its scientific computing libraries at our fingertips!\n",
    "\n",
    "After [some Googling](http://lmgtfy.com/?q=nonlinear+equation+solver+in+Python), we choose to use a nonlinear equation solver from the `optimize` module of the `scipy` library. First import what we need"
   ]
  },
  {
   "cell_type": "code",
   "execution_count": null,
   "metadata": {
    "collapsed": true
   },
   "outputs": [],
   "source": []
  },
  {
   "cell_type": "markdown",
   "metadata": {},
   "source": [
    "Then check the documentation by executing the function name followed by a question mark. A help window should pop up in a frame below when you press (shift+enter) on the following cell. You can close it when done reading."
   ]
  },
  {
   "cell_type": "code",
   "execution_count": null,
   "metadata": {
    "collapsed": false
   },
   "outputs": [],
   "source": []
  },
  {
   "cell_type": "markdown",
   "metadata": {},
   "source": [
    "According to the [documentation](http://lmgtfy.com/?q=scipy.optimize.fsolve) we need to pass the `fsolve` function at least two variables: our function that we want to set equal to zero, and an initial guess for its input."
   ]
  },
  {
   "cell_type": "code",
   "execution_count": null,
   "metadata": {
    "collapsed": false
   },
   "outputs": [],
   "source": []
  },
  {
   "cell_type": "markdown",
   "metadata": {},
   "source": [
    "i.e. $V_c = 2.85 m^3$\n",
    "\n",
    "So the total volume of one of the horizontal tank reactors, allowing for internals, is"
   ]
  },
  {
   "cell_type": "code",
   "execution_count": null,
   "metadata": {
    "collapsed": false
   },
   "outputs": [],
   "source": []
  },
  {
   "cell_type": "markdown",
   "metadata": {
    "collapsed": true
   },
   "source": [
    "If it's a cylinder that is three times as long as the diameter (looks about right in the picture) then we can calculate the diameter\n",
    "$$ V_{tank} = \\frac{(3D)  \\pi  D^2}{4} $$\n",
    "$$D = \\left(\\frac{ 4 V_{tank}}{3 \\pi}\\right)^{1/3} $$\n"
   ]
  },
  {
   "cell_type": "code",
   "execution_count": null,
   "metadata": {
    "collapsed": false
   },
   "outputs": [],
   "source": []
  },
  {
   "cell_type": "markdown",
   "metadata": {
    "collapsed": true
   },
   "source": [
    "Ooops! Try again with a float instead of integer in the exponent!"
   ]
  },
  {
   "cell_type": "code",
   "execution_count": null,
   "metadata": {
    "collapsed": false
   },
   "outputs": [],
   "source": []
  },
  {
   "cell_type": "markdown",
   "metadata": {},
   "source": [
    "A bit over 5 feet. So now you can draw your picture to scale.\n",
    "\n",
    "Here is Prof. West next to his reactors. Don’t forget your hard hat and safety goggles!\n",
    "![Prof. West next to his reactors](https://raw.githubusercontent.com/rwest/CHME4510/master/images/HW1ReactorsDrawing.jpg)"
   ]
  },
  {
   "cell_type": "code",
   "execution_count": null,
   "metadata": {
    "collapsed": true
   },
   "outputs": [],
   "source": []
  }
 ],
 "metadata": {
  "kernelspec": {
   "display_name": "Python 2",
   "language": "python",
   "name": "python2"
  },
  "language_info": {
   "codemirror_mode": {
    "name": "ipython",
    "version": 2
   },
   "file_extension": ".py",
   "mimetype": "text/x-python",
   "name": "python",
   "nbconvert_exporter": "python",
   "pygments_lexer": "ipython2",
   "version": "2.7.11"
  }
 },
 "nbformat": 4,
 "nbformat_minor": 0
}
