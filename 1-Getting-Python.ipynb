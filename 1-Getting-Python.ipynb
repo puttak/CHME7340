{
 "cells": [
  {
   "cell_type": "markdown",
   "metadata": {},
   "source": [
    "# 1. Getting Python"
   ]
  },
  {
   "cell_type": "markdown",
   "metadata": {},
   "source": [
    "# Run Python in the cloud\n",
    "\n",
    "If you are using someone else's computer and don't want to install software, or if you keep switching between many different computers, you can use Python in the cloud. It'll require an internet connection, be a bit slower, and will prevent you from installing unusual libraries, but for many \"back of the envelope\" calculations it might be very convenient.  We recommend installing Python on your own computer (see below) but you can get started in the cloud.\n",
    "\n",
    "Cloud options include http://try.jupyter.org and https://cocalc.com and https://gryd.us and probably more.\n",
    "For this course we have set up https://jupyter.chemekinetics.com/ for you.\n"
   ]
  },
  {
   "cell_type": "markdown",
   "metadata": {},
   "source": [
    "# Jupyter Install\n",
    "\n",
    "This guide is to help you get Jupyter notebooks up and running on your personal computer.  \n",
    "\n",
    "## 1. Install Anaconda\n",
    "\n",
    "There are several ways to install Python and Jupyter and all of the required libraries to complete this course.  You are welcome to try out any of them, but we **strongly** suggest using the Anaconda Python Distribution.  It is up-to-date (unlike the versions of Python that may already exist on your Linux or OSX machine) and it also comes with `conda`, which is a very helpful package manager making it trivial to install otherwise complicated software packages and libraries; it's awesome and you want to have it.\n",
    "\n",
    "### Download the installer\n",
    "\n",
    "First download the Anaconda installer.  Visit https://www.anaconda.com/download/ to download the appropriate installer for your operating system. **Choose Python 3.6.** -- it is the future.\n",
    "\n",
    "\n",
    "### Run the installer\n",
    "\n",
    "Follow the appropriate instructions for your operating system listed on the [Anaconda Install Page](https://docs.anaconda.com/anaconda/install).  For Linux users, make sure to answer \"yes\" when the installer asks about editing your `PATH`.\n",
    "\n",
    "Also note that on both Linux and OSX, you have to close the current terminal window and re-open it before the Anaconda installation will be available.\n",
    "\n",
    "## 2. Install Jupyter and other libraries\n",
    "\n",
    "Once Anaconda is installed, you can then use the included `conda` package to install all of the necessary packages for the course.  Open a terminal and run\n",
    "\n",
    "```Bash\n",
    "conda install jupyter numpy scipy sympy matplotlib\n",
    "```\n",
    "\n",
    "## 3. Test your installation\n",
    "Once `conda` is finished you should be ready to go!  Open a terminal and run\n",
    "\n",
    "```Bash\n",
    "jupyter notebook\n",
    "```\n",
    "\n",
    "to launch a notebook server. The installer may also provide a Graphical User Interface (GUI) to launch Notebooks.\n",
    "Sometimes you have to update your installation to get it to work properly, even immediately after installing it. Try updating everything if you run into trouble. "
   ]
  },
  {
   "cell_type": "markdown",
   "metadata": {},
   "source": [
    "# Python 2 or Python 3?\n",
    "\n",
    "I now recommend Python 3 as it is newer and in many ways better, but there are some reasons you may want to choose Python 2 for specific things:\n",
    "\n",
    " 1. some libraries and packages are not yet compatible with Python 3\n",
    " \n",
    " 2. many tutorials, help pages, instructions, tips, and tricks that you will find online (Google is your friend when learning to program!) will still be in Python 2.\n",
    " \n",
    " 3. If you use Python 2.7, then almost everything good about Python 3 is also available to you.\n",
    " \n",
    "So don't be too rude to people who recommend Python 2.7.\n",
    " \n",
    "## What to watch out for with Python 2: integers!\n",
    "\n",
    "Python does what is called \"duck typing\" (if it walks like a duck, and quacks like a duck, it must be a duck), so unlike C++ you don't have to explicitly specify that a variable is an `int` (integer) or a `float` (floating point number, with significant digits), it guesses based on what it looks like. To Python, `x = 2` looks like `x` is an `integer`, but `x = 2.0` or even `x = 2.` look like `x` is a `float`.   For example:"
   ]
  },
  {
   "cell_type": "code",
   "execution_count": 1,
   "metadata": {
    "collapsed": false
   },
   "outputs": [
    {
     "data": {
      "text/plain": [
       "int"
      ]
     },
     "execution_count": 1,
     "metadata": {},
     "output_type": "execute_result"
    }
   ],
   "source": [
    "type(2)"
   ]
  },
  {
   "cell_type": "code",
   "execution_count": 2,
   "metadata": {
    "collapsed": false
   },
   "outputs": [
    {
     "data": {
      "text/plain": [
       "float"
      ]
     },
     "execution_count": 2,
     "metadata": {},
     "output_type": "execute_result"
    }
   ],
   "source": [
    "type(2.)"
   ]
  },
  {
   "cell_type": "markdown",
   "metadata": {},
   "source": [
    "In Python 2, if you divide two `int`s using `/` then you get an `int` answer.\n",
    "For example:"
   ]
  },
  {
   "cell_type": "code",
   "execution_count": 3,
   "metadata": {
    "collapsed": false
   },
   "outputs": [
    {
     "data": {
      "text/plain": [
       "0"
      ]
     },
     "execution_count": 3,
     "metadata": {},
     "output_type": "execute_result"
    }
   ],
   "source": [
    "x = 2\n",
    "y = 3\n",
    "x / y"
   ]
  },
  {
   "cell_type": "markdown",
   "metadata": {},
   "source": [
    "If you're running this notebook in Python 3, then the output will be `0.66666666`, but if you're running Python 2, then the output will be `0`.  This is where danger lies!\n",
    "It happens even if you don't assign variables:"
   ]
  },
  {
   "cell_type": "code",
   "execution_count": 4,
   "metadata": {
    "collapsed": false
   },
   "outputs": [
    {
     "data": {
      "text/plain": [
       "10"
      ]
     },
     "execution_count": 4,
     "metadata": {},
     "output_type": "execute_result"
    }
   ],
   "source": [
    "3/2*10"
   ]
  },
  {
   "cell_type": "markdown",
   "metadata": {},
   "source": [
    "Compare these expressions that look all like $2^{1/2} = \\sqrt{2}$"
   ]
  },
  {
   "cell_type": "code",
   "execution_count": 5,
   "metadata": {
    "collapsed": false
   },
   "outputs": [
    {
     "name": "stdout",
     "output_type": "stream",
     "text": [
      "1\n",
      "1.0\n",
      "1.41421356237\n",
      "1.41421356237\n"
     ]
    }
   ],
   "source": [
    "print( 2**(1/2) )\n",
    "print( 2.**(1/2) )\n",
    "print( 2**(1./2) )\n",
    "print( 2.**(1./2.) )"
   ]
  },
  {
   "cell_type": "markdown",
   "metadata": {},
   "source": [
    "**Take-home message: whichever version of Python you are using, it's safest to *always* put decimal points after numbers, like 2.** (unless you're sure you have a good reason not to)\n",
    "\n",
    "Also, be extra careful when adapting or using someone else's code, especially if it was written using Python 3. (eg. the first example in the MOOC linked below has '`1/3`' somewhere in it, instead of '`1./3`')"
   ]
  },
  {
   "cell_type": "markdown",
   "metadata": {},
   "source": [
    "<hr />This notebook takes material from the MOOC \"[Practical Numerical Methods with Python](http://openedx.seas.gwu.edu/courses/GW/MAE6286/2014_fall)\" by L. Barba."
   ]
  },
  {
   "cell_type": "code",
   "execution_count": null,
   "metadata": {
    "collapsed": true
   },
   "outputs": [],
   "source": []
  }
 ],
 "metadata": {
  "kernelspec": {
   "display_name": "Python 2",
   "language": "python",
   "name": "python2"
  },
  "language_info": {
   "codemirror_mode": {
    "name": "ipython",
    "version": 2
   },
   "file_extension": ".py",
   "mimetype": "text/x-python",
   "name": "python",
   "nbconvert_exporter": "python",
   "pygments_lexer": "ipython2",
   "version": "2.7.11"
  }
 },
 "nbformat": 4,
 "nbformat_minor": 0
}
