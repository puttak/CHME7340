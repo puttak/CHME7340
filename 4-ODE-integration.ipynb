{
 "cells": [
  {
   "cell_type": "markdown",
   "metadata": {
    "collapsed": false
   },
   "source": [
    "# 4. Integrating ODEs using `odeint`\n",
    "\n",
    "First, import some stuff we'll need. We give some of them nicknames to save typing later"
   ]
  },
  {
   "cell_type": "code",
   "execution_count": 1,
   "metadata": {
    "collapsed": false
   },
   "outputs": [],
   "source": [
    "%matplotlib inline\n",
    "import matplotlib.pyplot as plt\n",
    "import numpy as np\n",
    "from scipy.integrate import odeint"
   ]
  },
  {
   "cell_type": "markdown",
   "metadata": {},
   "source": [
    "The function `odeint`, which is found in the `integrate` submodule of the `scipy` package, integrates ordinary differential equations of the form\n",
    "$$\n",
    "\\newcommand{\\yy}{\\mathbf{y}}\n",
    "\\newcommand{\\ff}{\\mathbf{f}}\n",
    "\\frac{\\mathrm{d} \\yy}{\\mathrm{d}t} = \\ff(\\yy, t),\n",
    "$$where $\\yy$ is a vector in $\\mathbb{R}^n$, or\n",
    "$$\n",
    "\\dot{\\yy} =  \\ff(\\yy, t).\n",
    "$$\n",
    "That is, it provides a numerical solution of the *initial value problem* given by this differential equation, together with an initial condition\n",
    "$$\n",
    "\\yy(t = t_0) = \\yy_0,\n",
    "$$\n",
    "returning the solution curve (or trajectory) $\\yy(t)$ as a function of time $t$, within a certain (finite!) range of values of $t$.\n",
    "\n",
    "Writing $\\yy = (y_1, \\ldots, y_n)$, we have a system of the form\n",
    "\\begin{align}\n",
    "\\dot{y_1} &= f_1(y_1, \\ldots, y_n, t) \\\\\n",
    "\\dot{y_2} &= f_2(y_1, \\ldots, y_n, t) \\\\\n",
    "&\\ldots \\\\\n",
    "\\dot{y_n} &= f_n(y_1, \\ldots, y_n, t)\n",
    "\\end{align}\n",
    "\n",
    "Note that in fact, *any* ordinary (system of) ordinary differential equation(s) can be written in this form by defining new variables to represent higher-order derivatives, and incorporating them into the vector $\\yy$ of variables.\n",
    "\n",
    "To use `odeint`, we must define at least the Python function `f` which implements the mathematical function $\\ff$. It must take a vector `y` and a time `t`,\n",
    "and return the new vector `f(y,t)`."
   ]
  },
  {
   "cell_type": "markdown",
   "metadata": {},
   "source": [
    "## 1D equations\n",
    "\n",
    "The simplest case is when the spatial dimension is $n=1$. For example, we could wish to solve the ODE\n",
    "$\n",
    "\\dot{y} = ay,\n",
    "$\n",
    "whose exact solution is, of course, $y(t) = y_0 \\exp(a t)$."
   ]
  },
  {
   "cell_type": "code",
   "execution_count": 2,
   "metadata": {
    "collapsed": false
   },
   "outputs": [
    {
     "data": {
      "image/png": "[encoded data removed]",
      "text/plain": [
       "<matplotlib.figure.Figure at 0x10454e450>"
      ]
     },
     "metadata": {},
     "output_type": "display_data"
    }
   ],
   "source": [
    "a = 2.0\n",
    "def f(y, t):\n",
    "    return a*y\n",
    "times = np.linspace(0,6)\n",
    "y0 = 1.0\n",
    "y_output = odeint(f, y0, times)\n",
    "y_exact = y0*np.exp(a*times)\n",
    "plt.plot(times, y_output, 'r.', label='integrated')\n",
    "plt.plot(times, y_exact, label='analytical')\n",
    "plt.legend()\n",
    "plt.show()"
   ]
  },
  {
   "cell_type": "markdown",
   "metadata": {},
   "source": [
    "## n-D equations\n",
    "$\n",
    "\\newcommand{\\yy}{\\mathbf{y}}\n",
    "\\newcommand{\\ff}{\\mathbf{f}}\n",
    "$\n",
    "Now we see how to do it for a set of four simultaneous equations.\n",
    "The function $f$ still takes a single variable $\\yy$, and returns a single thing $d\\yy/dt$, but this variable $\\yy$ is a vector containing 4 things (i.e. an array with size 4x1).\n",
    "Although you can manipulate this numpy array however you wish, it is often clearest (and clear code is a good thing) to unpack it into separate names in the beginning of your $f$ function, and pack up the results at the end.\n",
    "In this toy example the names are `y1` through `y4` but you should use names that describe the physical parameters in your problem."
   ]
  },
  {
   "cell_type": "code",
   "execution_count": 3,
   "metadata": {
    "collapsed": false
   },
   "outputs": [],
   "source": [
    "def fvector(yvector, t):\n",
    "    \"\"\"\n",
    "    A function that returns the time derivative of `yvector`,\n",
    "    where `yvector` is a vector with 4 elements.\n",
    "    \"\"\"\n",
    "    # unpack the vector into 4 variables\n",
    "    y1, y2, y3, y4 = yvector\n",
    "    # specify the four differential equations\n",
    "    # (these are made up)\n",
    "    dy1_dt = 1.6 * y1\n",
    "    dy2_dt = 1.5 * y2\n",
    "    dy3_dt = -1 * y3\n",
    "    dy4_dt = -y2 + y3\n",
    "    # pack up the four results into a single array to return\n",
    "    dyvector_dt = np.array([dy1_dt, dy2_dt, dy3_dt, dy4_dt])\n",
    "    return dyvector_dt\n",
    "\n",
    "# As before, specify the times we wish solutions at\n",
    "times = np.linspace(0,6)\n",
    "# Now our initial condition is also a vector\n",
    "yvector0 = np.array([0.5, 2.0, 1e4, 2e3])\n",
    "# Then solve using odeint\n",
    "yvector_output = odeint(fvector, yvector0, times)"
   ]
  },
  {
   "cell_type": "markdown",
   "metadata": {},
   "source": [
    "You will see here that the output is an array containing 50 timesteps x 4 variables."
   ]
  },
  {
   "cell_type": "code",
   "execution_count": 4,
   "metadata": {
    "collapsed": false
   },
   "outputs": [
    {
     "data": {
      "text/plain": [
       "(50, 4)"
      ]
     },
     "execution_count": 4,
     "metadata": {},
     "output_type": "execute_result"
    }
   ],
   "source": [
    "yvector_output.shape"
   ]
  },
  {
   "cell_type": "markdown",
   "metadata": {},
   "source": [
    "If we translate the array, using the `.T` attribute, we'll get it to be 4 variables x 50 timesteps"
   ]
  },
  {
   "cell_type": "code",
   "execution_count": 5,
   "metadata": {
    "collapsed": false
   },
   "outputs": [
    {
     "data": {
      "text/plain": [
       "(4, 50)"
      ]
     },
     "execution_count": 5,
     "metadata": {},
     "output_type": "execute_result"
    }
   ],
   "source": [
    "yvector_output.T.shape"
   ]
  },
  {
   "cell_type": "markdown",
   "metadata": {},
   "source": [
    "That is more convenient for slicing back up into four arrays, one for each variable, each being 50 elements long:"
   ]
  },
  {
   "cell_type": "code",
   "execution_count": 6,
   "metadata": {
    "collapsed": true
   },
   "outputs": [],
   "source": [
    "y1, y2, y3, y4 = yvector_output.T"
   ]
  },
  {
   "cell_type": "markdown",
   "metadata": {},
   "source": [
    "We can now plot them all"
   ]
  },
  {
   "cell_type": "code",
   "execution_count": 7,
   "metadata": {
    "collapsed": false
   },
   "outputs": [
    {
     "data": {
      "image/png": "[encoded data removed]",
      "text/plain": [
       "<matplotlib.figure.Figure at 0x10a74e190>"
      ]
     },
     "metadata": {},
     "output_type": "display_data"
    }
   ],
   "source": [
    "plt.plot(times, y1, label='y1')\n",
    "plt.plot(times, y2, label='y2')\n",
    "plt.plot(times, y3, label='y3')\n",
    "plt.plot(times, y4, label='y4')\n",
    "plt.legend()\n",
    "plt.show()"
   ]
  },
  {
   "cell_type": "markdown",
   "metadata": {},
   "source": [
    "# Calculating X in a reactor with pressure drop\n",
    "\n",
    "To see where these equations come from, see page 183-188 in the textbook \"Essentials of Chemical Reaction Engineering\" by Fogler. It is modeling a gas flowing through a packed bed reactor. But all you need to know is that $X$ is the conversion (of species A into other things due to the chemical reaction) and $y$ is the ratio of the pressure, to the pressure at the inlet, i.e. it starts at 1 and decreases, because of the catalyst getting in the way of the gas.\n",
    "\n",
    "This time we have two variables to integrate (conversion $X$ and pressure ratio $y$), so our function must accept and return a vector. We integrate over weight of catalyst $W$, not time $t$.\n",
    "The differential equations are:\n",
    "\n",
    "$$\\frac{\\mathrm{d} X}{\\mathrm{d} W} = \\frac{-r_A'}{F_{A0}}$$\n",
    "$$\\frac{\\mathrm{d} y}{\\mathrm{d} W} = -\\alpha \\frac{(1+\\epsilon X)}{2y}$$\n"
   ]
  },
  {
   "cell_type": "code",
   "execution_count": 8,
   "metadata": {
    "collapsed": false
   },
   "outputs": [],
   "source": [
    "def dYvecdW(Yvec,W):\n",
    "    \"\"\"\n",
    "    Return dY/dW, where Y is a vector containing the values X and y\n",
    "    \"\"\"\n",
    "    X, y = Yvec # unpack values from Y vector into two variables\n",
    "    # Explicit equations\n",
    "    epsilon = -0.15\n",
    "    kprime = 0.0074\n",
    "    Fa0 = 0.1362\n",
    "    alpha = 0.0367\n",
    "    raprime = -1*kprime*(1-X)/(1+epsilon*X) * y\n",
    "    f = (1+epsilon*X)/y # ratio of v / v0\n",
    "    # Differential equations\n",
    "    dXdW = -raprime / Fa0\n",
    "    dydW = -1*alpha * (1 + epsilon * X)/ (2*y) \n",
    "    return [dXdW, dydW]  # pack up three differential equations into the dYvecdV vector"
   ]
  },
  {
   "cell_type": "markdown",
   "metadata": {},
   "source": [
    "Set up the steps you want to integrate over. In this case it's Weight not Time"
   ]
  },
  {
   "cell_type": "code",
   "execution_count": 9,
   "metadata": {
    "collapsed": false
   },
   "outputs": [],
   "source": [
    "W_output = np.linspace(0, 27., num=50) # Range for the weight of catalyst of the reactor"
   ]
  },
  {
   "cell_type": "markdown",
   "metadata": {},
   "source": [
    "Set up the initial conditions, as a vector of the two values"
   ]
  },
  {
   "cell_type": "code",
   "execution_count": 10,
   "metadata": {
    "collapsed": false
   },
   "outputs": [],
   "source": [
    "Y0 = [0., 1.] # Initial values for the dependent variables i.e X and y"
   ]
  },
  {
   "cell_type": "markdown",
   "metadata": {},
   "source": [
    "Perform the integration, and extract the results"
   ]
  },
  {
   "cell_type": "code",
   "execution_count": 11,
   "metadata": {
    "collapsed": false
   },
   "outputs": [],
   "source": [
    "Y_result = odeint(dYvecdW, Y0, W_output) # perform the integration\n",
    "X, y = Y_result.T # extract columns by transposing matrix and splitting into two variables"
   ]
  },
  {
   "cell_type": "markdown",
   "metadata": {},
   "source": [
    "Now we can plot the results"
   ]
  },
  {
   "cell_type": "code",
   "execution_count": 12,
   "metadata": {
    "collapsed": false
   },
   "outputs": [
    {
     "data": {
      "image/png": "[encoded data removed]",
      "text/plain": [
       "<matplotlib.figure.Figure at 0x10454e550>"
      ]
     },
     "metadata": {},
     "output_type": "display_data"
    }
   ],
   "source": [
    "epsilon = -0.15\n",
    "f = (1+epsilon*X)/y # volumetric flow rate ratio\n",
    "\n",
    "plt.plot(W_output, X, label='X (conversion)')\n",
    "plt.plot(W_output, y, label='y ($P/P_0$)')\n",
    "plt.plot(W_output, f, label='f ($v/v_0$)')\n",
    "plt.legend(loc='upper left')\n",
    "plt.xlabel('Weight of catalysti (kg)')\n",
    "\n",
    "plt.show()"
   ]
  },
  {
   "cell_type": "markdown",
   "metadata": {},
   "source": [
    "# Integrating other variables\n",
    "Sometimes it's convenient to integrate things like $N_{tot}$ or Volume as well as the variables that you think you care most about. Just add them to your vector."
   ]
  },
  {
   "cell_type": "code",
   "execution_count": null,
   "metadata": {
    "collapsed": true
   },
   "outputs": [],
   "source": []
  }
 ],
 "metadata": {
  "kernelspec": {
   "display_name": "Python 2",
   "language": "python",
   "name": "python2"
  },
  "language_info": {
   "codemirror_mode": {
    "name": "ipython",
    "version": 2
   },
   "file_extension": ".py",
   "mimetype": "text/x-python",
   "name": "python",
   "nbconvert_exporter": "python",
   "pygments_lexer": "ipython2",
   "version": "2.7.11"
  }
 },
 "nbformat": 4,
 "nbformat_minor": 0
}
