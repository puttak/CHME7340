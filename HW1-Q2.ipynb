{
 "cells": [
  {
   "cell_type": "markdown",
   "metadata": {},
   "source": [
    "# Homework 1 Question 2\n",
    "\n",
    "We have the rate law\n",
    "$$r = -k C_{A}^{2}$$\n",
    "and the final conversion\n",
    "$$X_f = 0.98$$\n",
    "which in a batch reactor would take\n",
    "$$t_\\text{batch} = 12\\text{ hours} $$\n",
    "but for our flow reactors \n",
    "$$v = 0.8\\text{ m$^3$/hour}$$\n",
    "First, set the parameters"
   ]
  },
  {
   "cell_type": "code",
   "execution_count": 1,
   "metadata": {
    "collapsed": false
   },
   "outputs": [],
   "source": [
    "t_batch = 12 # hours\n",
    "Xf = 0.98\n",
    "v = 0.8 # m^3/hours"
   ]
  },
  {
   "cell_type": "markdown",
   "metadata": {},
   "source": [
    "By integrating the batch reactor design equation we can find $(k C_{A0})$:\n",
    "\n",
    "$$t_\\text{batch} = \\int\\frac{dC_A}{-k C_A^2}= \\int\\frac{-C_{A0} dX}{-k C_{A0}^2(1-X)^2}$$\n",
    "\n",
    "$$k C_{A0} = \\frac{-\\left(1-\\frac{1}{(1-X_f)}\\right) }{t_\\text{batch}}$$\n"
   ]
  },
  {
   "cell_type": "code",
   "execution_count": 2,
   "metadata": {
    "collapsed": false
   },
   "outputs": [
    {
     "name": "stdout",
     "output_type": "stream",
     "text": [
      "k_Ca0 is 4.08333333333 hours\n"
     ]
    }
   ],
   "source": [
    "k_Ca0 = -(1.-1./(1-Xf))/t_batch # hours\n",
    "print(\"k_Ca0 is {0} hours\".format(k_Ca0))"
   ]
  },
  {
   "cell_type": "markdown",
   "metadata": {},
   "source": [
    "An underestimate of total volume would be if it were one PFR:"
   ]
  },
  {
   "cell_type": "code",
   "execution_count": 3,
   "metadata": {
    "collapsed": false
   },
   "outputs": [
    {
     "data": {
      "text/plain": [
       "9.600000000000001"
      ]
     },
     "execution_count": 3,
     "metadata": {},
     "output_type": "execute_result"
    }
   ],
   "source": [
    "t_batch * v  # m3"
   ]
  },
  {
   "cell_type": "markdown",
   "metadata": {},
   "source": [
    "An overestimate of total volume would be if it were one CSTR:"
   ]
  },
  {
   "cell_type": "code",
   "execution_count": 4,
   "metadata": {
    "collapsed": false
   },
   "outputs": [
    {
     "data": {
      "text/plain": [
       "479.99999999999955"
      ]
     },
     "execution_count": 4,
     "metadata": {},
     "output_type": "execute_result"
    }
   ],
   "source": [
    "(v/k_Ca0) * Xf / (1-Xf)**2 # m3"
   ]
  },
  {
   "cell_type": "markdown",
   "metadata": {},
   "source": [
    "This is such a wide range that we had better do something more precise!\n",
    "It is better modelled as 6 CSTRs in series, one for each compartment, with volumes $V_c$. For each compartment:\n",
    "\n",
    "$$ V_c = \\frac{-(F_{Ai} - F_{A(i-1)})}{kC_{Ai}^{2}} $$\n",
    "\n",
    "Substitute to be in terms of conversion of A:\n",
    "$$ V_c = \\frac{-v_{0} C_{A0} (X_{i} - X_{(i-1)})}{ k C_{A0}^2(1-X_{i})^{2} }$$\n",
    "\n",
    "Then refactor the equation for $X_{(i-1)}$\n",
    "$$X_{(i-1)} = X_{i} - k C_{A0}(V_c/v_{0}) (1-X_{i})^{2} $$\n",
    "\n",
    "Let $j = i-1$:\n",
    "$$X_{j} = X_{(j+1)} - k C_{A0}(V_c/v_{0}) (1-X_{(j+1)})^{2} $$\n",
    "\n",
    "\n",
    "And we know that when $V_c$ is correct $X_6 = 0.98$ and $X_0 = 0$.\n",
    "\n",
    "Let's define one function for $X_j = f_1(j, V_c)$ (which calls itself -- a recursive function), and another for $X_0= f_2(V_c)$"
   ]
  },
  {
   "cell_type": "code",
   "execution_count": 5,
   "metadata": {
    "collapsed": true
   },
   "outputs": [],
   "source": [
    "def X(j, V_compartment):\n",
    "    \"\"\"\n",
    "    Returns the conversion leaving the j'th compartment,\n",
    "    assuming all compartments have volume V_compartment,\n",
    "    and the sixth compartment has conversion 0.98\n",
    "    \"\"\"\n",
    "    if j == 6:\n",
    "        return 0.98\n",
    "    X_exit = X(j+1, V_compartment)\n",
    "    return X_exit - k_Ca0 * V_compartment/v * (1-X_exit)**2\n",
    "\n",
    "def zeroth_X(V_compartment):\n",
    "    \"\"\"\n",
    "    Return the conversion entering the first compartment,\n",
    "    (i.e. leaving the zeroth compartment) assuming all \n",
    "    compartments have volume V_compartment,\n",
    "    and the sixth compartment has conversion 0.98\n",
    "    \"\"\"\n",
    "    return X(0, V_compartment)"
   ]
  },
  {
   "cell_type": "markdown",
   "metadata": {},
   "source": [
    "We want to find the $V_c$ so that $X_0= f_2(V_c) = 0$. Or in Python terms the value of `V_compartment` that will give \n",
    "```python\n",
    "zeroth_X(V_compartment) == 0.0\n",
    "```\n",
    "Let's guess a few"
   ]
  },
  {
   "cell_type": "code",
   "execution_count": 6,
   "metadata": {
    "collapsed": false
   },
   "outputs": [
    {
     "data": {
      "text/plain": [
       "0.9566546483055325"
      ]
     },
     "execution_count": 6,
     "metadata": {},
     "output_type": "execute_result"
    }
   ],
   "source": [
    "zeroth_X(1.)"
   ]
  },
  {
   "cell_type": "code",
   "execution_count": 7,
   "metadata": {
    "collapsed": false
   },
   "outputs": [
    {
     "data": {
      "text/plain": [
       "-446745927214.08344"
      ]
     },
     "execution_count": 7,
     "metadata": {},
     "output_type": "execute_result"
    }
   ],
   "source": [
    "zeroth_X(10.)"
   ]
  },
  {
   "cell_type": "code",
   "execution_count": 8,
   "metadata": {
    "collapsed": false
   },
   "outputs": [
    {
     "data": {
      "text/plain": [
       "-0.4993595984436553"
      ]
     },
     "execution_count": 8,
     "metadata": {},
     "output_type": "execute_result"
    }
   ],
   "source": [
    "zeroth_X(3.)"
   ]
  },
  {
   "cell_type": "markdown",
   "metadata": {},
   "source": [
    "Surely we can do better than guess and check? We have Python and all its scientific computing libraries at our fingertips!\n",
    "\n",
    "After [some Googling](http://lmgtfy.com/?q=nonlinear+equation+solver+in+Python), we choose to use a nonlinear equation solver from the `optimize` module of the `scipy` library. First import what we need"
   ]
  },
  {
   "cell_type": "code",
   "execution_count": 9,
   "metadata": {
    "collapsed": true
   },
   "outputs": [],
   "source": [
    "import scipy.optimize"
   ]
  },
  {
   "cell_type": "markdown",
   "metadata": {},
   "source": [
    "Then check the documentation by executing the function name followed by a question mark. A help window should pop up in a frame below when you press (shift+enter) on the following cell. You can close it when done reading."
   ]
  },
  {
   "cell_type": "code",
   "execution_count": 10,
   "metadata": {
    "collapsed": false
   },
   "outputs": [],
   "source": [
    "scipy.optimize.fsolve?"
   ]
  },
  {
   "cell_type": "markdown",
   "metadata": {},
   "source": [
    "According to the [documentation](http://lmgtfy.com/?q=scipy.optimize.fsolve) we need to pass the `fsolve` function at least two variables: our function that we want to set equal to zero, and an initial guess for its input."
   ]
  },
  {
   "cell_type": "code",
   "execution_count": 11,
   "metadata": {
    "collapsed": false
   },
   "outputs": [
    {
     "data": {
      "text/plain": [
       "array([ 2.84919225])"
      ]
     },
     "execution_count": 11,
     "metadata": {},
     "output_type": "execute_result"
    }
   ],
   "source": [
    "initial_guess = 2.\n",
    "root = scipy.optimize.fsolve(zeroth_X, initial_guess)\n",
    "root"
   ]
  },
  {
   "cell_type": "markdown",
   "metadata": {},
   "source": [
    "i.e. $V_c = 2.85 m^3$\n",
    "\n",
    "So the total volume of one of the horizontal tank reactors, allowing for internals, is"
   ]
  },
  {
   "cell_type": "code",
   "execution_count": 12,
   "metadata": {
    "collapsed": false
   },
   "outputs": [
    {
     "data": {
      "text/plain": [
       "9.4973074994073627"
      ]
     },
     "execution_count": 12,
     "metadata": {},
     "output_type": "execute_result"
    }
   ],
   "source": [
    "V_compartment = root[0] # 'root' was an array, we need the first (and only) element of it\n",
    "tank_volume = 3 * V_compartment / 0.9 # 3 compartments, 10% occupied by baffles etc.\n",
    "tank_volume # m3"
   ]
  },
  {
   "cell_type": "markdown",
   "metadata": {
    "collapsed": true
   },
   "source": [
    "If it's a cylinder that is three times as long as the diameter (looks about right in the picture) then we can calculate the diameter\n",
    "$$ V_{tank} = \\frac{(3D)  \\pi  D^2}{4} $$\n",
    "$$D = \\left(\\frac{ 4 V_{tank}}{3 \\pi}\\right)^{1/3} $$\n"
   ]
  },
  {
   "cell_type": "code",
   "execution_count": 13,
   "metadata": {
    "collapsed": false
   },
   "outputs": [
    {
     "data": {
      "text/plain": [
       "1.0"
      ]
     },
     "execution_count": 13,
     "metadata": {},
     "output_type": "execute_result"
    }
   ],
   "source": [
    "import numpy # just to get pi\n",
    "(4*tank_volume/(3*numpy.pi))**(1/3) # metres"
   ]
  },
  {
   "cell_type": "markdown",
   "metadata": {
    "collapsed": true
   },
   "source": [
    "Ooops! If you're using Python 2, that gave you a diameter of 1.0 m because `(1/3)` in is zero. Try again with a float instead of integer in the exponent!"
   ]
  },
  {
   "cell_type": "code",
   "execution_count": 14,
   "metadata": {
    "collapsed": false
   },
   "outputs": [
    {
     "data": {
      "text/plain": [
       "1.5914626642206091"
      ]
     },
     "execution_count": 14,
     "metadata": {},
     "output_type": "execute_result"
    }
   ],
   "source": [
    "(4*tank_volume/(3*numpy.pi))**(1./3) # metres"
   ]
  },
  {
   "cell_type": "markdown",
   "metadata": {},
   "source": [
    "A bit over 5 feet. So now you can draw your picture to scale.\n",
    "\n",
    "Here is Prof. West next to his reactors. Don’t forget your hard hat and safety goggles!\n",
    "![Prof. West next to his reactors](https://raw.githubusercontent.com/rwest/CHME4510/master/images/HW1ReactorsDrawing.jpg)"
   ]
  },
  {
   "cell_type": "code",
   "execution_count": null,
   "metadata": {
    "collapsed": true
   },
   "outputs": [],
   "source": []
  }
 ],
 "metadata": {
  "kernelspec": {
   "display_name": "Python 2",
   "language": "python",
   "name": "python2"
  },
  "language_info": {
   "codemirror_mode": {
    "name": "ipython",
    "version": 2
   },
   "file_extension": ".py",
   "mimetype": "text/x-python",
   "name": "python",
   "nbconvert_exporter": "python",
   "pygments_lexer": "ipython2",
   "version": "2.7.11"
  }
 },
 "nbformat": 4,
 "nbformat_minor": 0
}
