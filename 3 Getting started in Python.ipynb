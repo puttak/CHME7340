{
 "cells": [
  {
   "cell_type": "markdown",
   "metadata": {},
   "source": [
    "# 3. Getting started. Intro to Python."
   ]
  },
  {
   "cell_type": "markdown",
   "metadata": {},
   "source": [
    "# Libraries\n",
    "If you are completely new to Python, don't fret. We'll get you computing in no time! The first thing you need to know about are libraries: neat collections of functions that Pythonistas have made for you and me, to use for free.\n",
    "\n",
    "Python is a high-level open-source language. But the Python world is inhabited by many packages or libraries that provide useful things like array operations, plotting functions, and much more. We can import libraries of functions to expand the capabilities of Python in our programs.\n",
    "\n",
    "## NumPy\n",
    "\n",
    "Our favorite library is NumPy. It provides a bunch of useful mathematics and matrix operations. We will use it a lot! \n",
    "\n",
    "Try running the code below by selecting the cell and pressing *shift+enter*.\n"
   ]
  },
  {
   "cell_type": "code",
   "execution_count": 1,
   "metadata": {
    "collapsed": false
   },
   "outputs": [
    {
     "name": "stdout",
     "output_type": "stream",
     "text": [
      "[ 0.          0.55555556  1.11111111  1.66666667  2.22222222  2.77777778\n",
      "  3.33333333  3.88888889  4.44444444  5.        ]\n"
     ]
    }
   ],
   "source": [
    "import numpy\n",
    "my_array = numpy.linspace(0,5,10)\n",
    "print(my_array)"
   ]
  },
  {
   "cell_type": "markdown",
   "metadata": {},
   "source": [
    "Ok, let's figure out what those three lines of code did.  First, we typed\n",
    "\n",
    "`import numpy`\n",
    "\n",
    "which (ta-da!) imported the NumPy library.  \n",
    "\n",
    "Then we used the function `linspace()`, which in the example above, created an array with 10 evenly spaced values between 0 and 5. Since linspace is part of NumPy, we have to tell Python where to look for it, which is why we type\n",
    "\n",
    "`numpy.linspace`\n",
    "\n",
    "(That is, prepend the library name to the function name.) We also told Python that we wanted to call our array of numbers `my_array`. If we didn't give it a name, it would be hard to interact with the array after it's created.\n",
    "\n",
    "Finally, the third line displays the array that we've created. And that's it! Try changing the range of numbers that linspace is generating and re-run the cell to see how the output changes.\n"
   ]
  },
  {
   "cell_type": "markdown",
   "metadata": {},
   "source": [
    "## Matplotlib\n",
    "\n",
    "Our next favorite library is Matplotlib. It can create 2D plots of all sorts: line plots, histograms, power spectra, bar charts, errorcharts, scatterplots, you name it!  \n",
    "\n",
    "When we import Matplotlib, we use the following lines of code:"
   ]
  },
  {
   "cell_type": "code",
   "execution_count": 2,
   "metadata": {
    "collapsed": true
   },
   "outputs": [],
   "source": [
    "from matplotlib import pyplot\n",
    "%matplotlib inline"
   ]
  },
  {
   "cell_type": "markdown",
   "metadata": {},
   "source": [
    "The second line is only for Jupyter Notebooks, and tells it to plot the graphs inline the notebook.\n",
    "\n",
    "Let's try creating a plot using Matplotlib.  First we'll create an array of numbers with NumPy, from 0 to 5.  Then we'll create another array that is the square of the elements in the first array.  We'll plot the first array vs. the second array and see what we get.  \n",
    "\n",
    "One last thing, in Python, the # sign is how we create comments in our codes.  You'll notice in the code snippet below that there are a few hints and explanations in the comments.  Python will ignore anything after the # sign (until the next line)."
   ]
  },
  {
   "cell_type": "code",
   "execution_count": 3,
   "metadata": {
    "collapsed": false
   },
   "outputs": [
    {
     "data": {
      "image/png": "[encoded data removed]",
      "text/plain": [
       "<matplotlib.figure.Figure at 0x1058da5d0>"
      ]
     },
     "metadata": {},
     "output_type": "display_data"
    }
   ],
   "source": [
    "x = numpy.linspace(0, 5, 20)    #create our first array\n",
    "y = x**2    #this is how Python does exponents\n",
    "\n",
    "pyplot.plot(x, y)   #create the plot\n",
    "pyplot.show()       #show the plot"
   ]
  },
  {
   "cell_type": "markdown",
   "metadata": {},
   "source": [
    "\n",
    "Cool!  Now we have a plot of the line $y=x^2$ in the 1st quadrant."
   ]
  },
  {
   "cell_type": "markdown",
   "metadata": {},
   "source": [
    "# Variables\n",
    "\n",
    "In the NumPy example before, we created an array using `linspace()` and then we gave it the name \"`my_array`\".  When we name things in Python (or in any programming language) we're using variables.  \n",
    "\n",
    "Lower-level languages, like C, require explicit declaration of variable types—for example, integer or floating-point number. An integer variable must be declared as an integer before using it and a floating-point variable must be declared as a float.  \n",
    "\n",
    "Python is more forgiving and flexible in this regard.  It will automatically determine the variable type based on what sort of information you assign to that variable.  \n",
    "\n",
    "We will create three different variables and then use Python's type() function to see what kind of variables we've created.  "
   ]
  },
  {
   "cell_type": "code",
   "execution_count": 4,
   "metadata": {
    "collapsed": false
   },
   "outputs": [
    {
     "name": "stdout",
     "output_type": "stream",
     "text": [
      "<type 'int'>\n",
      "<type 'float'>\n",
      "<type 'str'>\n"
     ]
    }
   ],
   "source": [
    "x = 5\n",
    "y = 5.0\n",
    "z = 'five'\n",
    "\n",
    "print(type(x))\n",
    "print(type(y))\n",
    "print(type(z))"
   ]
  },
  {
   "cell_type": "markdown",
   "metadata": {},
   "source": [
    "Let's explain the example. We created three different variables, each of which is some variation on the number 5.  \n",
    "\n",
    "* `x` is an integer, since there is no decimal place\n",
    "* `y` is a float, since we specified it to be 5.0, with a decimal point\n",
    "* `z` is a string (note the quotation marks) that spells out 'five'\n",
    "\n",
    "And Python correctly interprets what each of these are, based only on the style of input.  \n",
    "\n",
    "This idea is called \"duck typing\" —If it walks like a duck, and quacks like a duck, it must be a duck. :-)\n",
    "\n",
    "Meaning, you call a function on a variable, and Python will execute it—if you get a quack, it's a duck; if you get a grunt, it's a pig. Get it?"
   ]
  },
  {
   "cell_type": "markdown",
   "metadata": {},
   "source": [
    "# Whitespace in Python\n",
    "\n",
    "Python uses indents and whitespace to group statements together. If you were to write a short loop in the C language, you might use:\n",
    "\n",
    "```\n",
    "for (i = 0, i < 5, i++){\n",
    "  printf(\"Hi! \\n\"); \n",
    "}\n",
    "```\n",
    "\n",
    "Python does not use curly braces like C, it uses indentation instead; so the same program as above is written in Python as follows:\n",
    "\n",
    "```\n",
    "for i in range(5):\n",
    "   print (\"Hi!\")\n",
    "```\n",
    "\n",
    "Try it out in the cell below. Also note the very handy function range. Try editing the cell below and only print the output of `range(5)` to see what it does."
   ]
  },
  {
   "cell_type": "code",
   "execution_count": 5,
   "metadata": {
    "collapsed": false
   },
   "outputs": [
    {
     "name": "stdout",
     "output_type": "stream",
     "text": [
      "Hi!\n",
      "Hi!\n",
      "Hi!\n",
      "Hi!\n",
      "Hi!\n"
     ]
    }
   ],
   "source": [
    "for i in range(5):\n",
    "   print(\"Hi!\")"
   ]
  },
  {
   "cell_type": "markdown",
   "metadata": {},
   "source": [
    "## Nesting\n",
    "\n",
    "Although it's usually not the best way to solve a problem, sometimes you just have to nest loops, conditionals, etc.  Again, the contents of a given loop are determined by whitespace, so to nest two for-loops, we could write\n",
    "\n",
    "```\n",
    "for i in range(3):\n",
    "    for j in range(3):\n",
    "        print (\"This is in the j loop\")\n",
    "    print (\"\\nThis is in the i loop\\n\")\n",
    "```\n",
    "\n",
    "Think about what the output of these two loops should look like, **then** try running the cell below (shift-return) to see if you have it figured out."
   ]
  },
  {
   "cell_type": "code",
   "execution_count": null,
   "metadata": {
    "collapsed": false
   },
   "outputs": [],
   "source": [
    "for i in range(3):\n",
    "    for j in range(3):\n",
    "        print(\"This is in the j loop\")\n",
    "    print(\"\\nThis is in the i loop\\n\")"
   ]
  },
  {
   "cell_type": "markdown",
   "metadata": {},
   "source": [
    "What is `i` in the code above?\n",
    "\n",
    "We wrote `for i in range(5):` -- but what is the `i`?\n",
    "\n",
    "The short answer is that it's totally arbitrary. Try the cell below which prints out the value of `i` for each pass of the loop."
   ]
  },
  {
   "cell_type": "code",
   "execution_count": 7,
   "metadata": {
    "collapsed": false
   },
   "outputs": [
    {
     "name": "stdout",
     "output_type": "stream",
     "text": [
      "0\n",
      "1\n",
      "2\n",
      "3\n",
      "4\n"
     ]
    }
   ],
   "source": [
    "for i in range(5):\n",
    "    print(i)"
   ]
  },
  {
   "cell_type": "markdown",
   "metadata": {},
   "source": [
    "So what is `i`? It's the name that we assign to each of the values in `range(5)`, in sequence. So first it's equal to 0, then to 1, etc...\n",
    "\n",
    "But it doesn't have to be `i`, it can be any variable name (except for a few protected words, like `numpy`. Try changing `i` in both of the lines above to `husky`, or `melonhead`. You will get exactly the same output."
   ]
  },
  {
   "cell_type": "markdown",
   "metadata": {},
   "source": [
    "## If statements\n",
    "\n",
    "We've seen how for-loops utilize whitespace in Python to indicate where they begin and end. Other common code blocks are also delimited in this way.  \n",
    "\n",
    "For example, a code block that should be executed only if a certain condition is tested and found to be true is called an if-block. The contents of an if-block are preceded by an `if` statement terminated with a colon, and grouped by indentation level. This block could be followed by an \"else-if\" block, using the keyword `elif`. This block will also contain statements grouped by indentation level.\n",
    "\n",
    "In the following example, we have an `if...elif...else` sequence of blocks, together providing three different paths for the execution. If the first condition is false, the next elif condition is tested; if this one is also false, we go on to the else block and execute that. Try changing the value of `x` and see what happens when you run the cell in each case."
   ]
  },
  {
   "cell_type": "code",
   "execution_count": 8,
   "metadata": {
    "collapsed": false
   },
   "outputs": [
    {
     "name": "stdout",
     "output_type": "stream",
     "text": [
      "x is equal to 7\n"
     ]
    }
   ],
   "source": [
    "x = 7\n",
    "\n",
    "if x > 7:\n",
    "    print(\"x is greater than 7\")\n",
    "elif x < 7: #note that Python contracts else if to elif\n",
    "    print(\"x is less than 7\")\n",
    "else:\n",
    "    print(\"x is equal to 7\")"
   ]
  },
  {
   "cell_type": "markdown",
   "metadata": {},
   "source": [
    "Each code block that is indented in from the '`if, elif, else`' statements is the code that will be executed when the corresponding condition tests as true. "
   ]
  },
  {
   "cell_type": "markdown",
   "metadata": {},
   "source": [
    "## Functions\n",
    "Custom functions are extremely useful: you define a set of executable lines of code that you can run by a \"call\" to the function, using a name and a list of variables needed for the execution. It is the programming analog to the mathematical concept of a function:\n",
    "\n",
    "$$y=f(x)$$\n",
    "\n",
    "Functions are also delineated using whitespace.  The general syntax for defining a function is as follows, with a first line starting with the keyword `def` and ending with a colon, and the contents of the function indented to the same level. Here's a very simple function to add two numbers and return the result."
   ]
  },
  {
   "cell_type": "code",
   "execution_count": 9,
   "metadata": {
    "collapsed": false
   },
   "outputs": [
    {
     "name": "stdout",
     "output_type": "stream",
     "text": [
      "10\n"
     ]
    }
   ],
   "source": [
    "def add_two_numbers(a,b):\n",
    "    sum = a + b\n",
    "    return sum\n",
    "    \n",
    "print(add_two_numbers(4,6))"
   ]
  },
  {
   "cell_type": "markdown",
   "metadata": {},
   "source": [
    "If you were at all confused by the Python way of defining your own custom functions, you'll be sure to clear all confusion by watching [this video](https://youtu.be/gTwU8JPgu5E) by Bucky Roberts.  His online tutorials are hugely popular and full of humor!\n",
    "On Twitter, he is @bucky_roberts and his videos are collected on the website https://buckysroom.org"
   ]
  },
  {
   "cell_type": "markdown",
   "metadata": {},
   "source": [
    "## Zero indexed slicing\n",
    "\n",
    "In NumPy, you can look at portions of arrays, grab them, slice them and dice them!\n",
    "\n",
    "The first thing to note is that Python uses a zero-based index (like C, unlike Matlab), which is a good thing.   This means that if we create an array with five elements in it, we can look at those individual values using the indices 0 through 4.  Check it out in the cell below.  "
   ]
  },
  {
   "cell_type": "code",
   "execution_count": 10,
   "metadata": {
    "collapsed": false
   },
   "outputs": [
    {
     "name": "stdout",
     "output_type": "stream",
     "text": [
      "1\n",
      "5\n"
     ]
    }
   ],
   "source": [
    "import numpy\n",
    "\n",
    "my_array = numpy.array([1, 2, 3, 4, 5])\n",
    "\n",
    "print(my_array[0])\n",
    "print(my_array[4])"
   ]
  },
  {
   "cell_type": "markdown",
   "metadata": {},
   "source": [
    "See?  If you try to look at `my_array[5]`, you'll get an error, since you're actually asking Python to display the non-existent 6th value in the array my_array.  Give it a shot above and see what happens.  "
   ]
  },
  {
   "cell_type": "markdown",
   "metadata": {},
   "source": [
    "## Slicing\n",
    "Array slicing is a wonderful feature in Python that allows you to look at ranges of elements in an array.  If we want to look at the 2nd, 3rd, and 4th element of my_array, we can do that by giving Python a range of indices to return, like this:"
   ]
  },
  {
   "cell_type": "code",
   "execution_count": 11,
   "metadata": {
    "collapsed": false
   },
   "outputs": [
    {
     "name": "stdout",
     "output_type": "stream",
     "text": [
      "[2 3 4]\n"
     ]
    }
   ],
   "source": [
    "print(my_array[1:4])"
   ]
  },
  {
   "cell_type": "markdown",
   "metadata": {},
   "source": [
    "One important thing to note here is that the lower index in a slicing range is inclusive, while the upper index is exclusive.  Because of this, if you want the slicing range to include the last value of an array, you just leave off the upper index entirely.  For a range of all the values in the array except the first value, we would type:"
   ]
  },
  {
   "cell_type": "code",
   "execution_count": 12,
   "metadata": {
    "collapsed": false
   },
   "outputs": [
    {
     "name": "stdout",
     "output_type": "stream",
     "text": [
      "[2 3 4 5]\n"
     ]
    }
   ],
   "source": [
    "print(my_array[1:])"
   ]
  },
  {
   "cell_type": "markdown",
   "metadata": {},
   "source": [
    "The cell below shows a few different slices of my_array. Play around with them and get comfortable with how you can look at different sets of values"
   ]
  },
  {
   "cell_type": "code",
   "execution_count": 13,
   "metadata": {
    "collapsed": false
   },
   "outputs": [
    {
     "name": "stdout",
     "output_type": "stream",
     "text": [
      "[2 3]\n",
      "[1 2 3]\n",
      "[4 5]\n"
     ]
    }
   ],
   "source": [
    "print(my_array[1:3])\n",
    "print(my_array[0:3])\n",
    "print(my_array[3:])"
   ]
  },
  {
   "cell_type": "markdown",
   "metadata": {},
   "source": [
    "## And, Or\n",
    "Python, of course, has **Boolean logic**.\n",
    "\n",
    "What is Boolean logic, you may ask?  It's nothing too esoteric. There are two premises:\n",
    "\n",
    " 1. a statement can be either True or False, but nothing else;\n",
    " 2. combining statements with fundamental operations—And, Or, Not—gives a True or False result, but nothing else. \n",
    " \n",
    "Powerful simplicity!\n",
    "\n",
    "If you know other programming languages, you might be familiar with the following:\n",
    "\n",
    " * \"And\" is represented by `&&`\n",
    " * \"Or\" is represented by `||`\n",
    " \n",
    "Python handles things differently, and it's pretty straightforward, too.  In fact, it's like English:\n",
    "\n",
    " * Want the \"And\" operator? Type `and`\n",
    " * Want the \"Or\" operator? Type `or`\n",
    " * Want the \"Not\" operator? Type `not`"
   ]
  },
  {
   "cell_type": "code",
   "execution_count": 14,
   "metadata": {
    "collapsed": false
   },
   "outputs": [
    {
     "name": "stdout",
     "output_type": "stream",
     "text": [
      "x is between 3 and 7\n",
      "x is equal to either 5 or 4.  not sure which...\n",
      "x is not unequal to 5!\n"
     ]
    }
   ],
   "source": [
    "x = 5\n",
    "\n",
    "if x > 3 and x < 7:\n",
    "    print('x is between 3 and 7')\n",
    "    \n",
    "if x == 5 or x == 4:\n",
    "    print('x is equal to either 5 or 4.  not sure which...')\n",
    "\n",
    "if not x != 5:\n",
    "    print('x is not unequal to 5!') # Not sure why you'd do this..."
   ]
  },
  {
   "cell_type": "markdown",
   "metadata": {},
   "source": [
    "Below is a quick reference for general comparisons.  Most are pretty common, although \"not equal\" may be different than what you've used before.  \n",
    "\n",
    "* Less Than\t`<`\n",
    "* Greater Than\t`>`\n",
    "* Less Than or Equal to\t`<=`\n",
    "* Greater Than or Equal to\t`>=`\n",
    "* Equal to\t`==`\n",
    "* Not equal to\t`!=`"
   ]
  },
  {
   "cell_type": "markdown",
   "metadata": {},
   "source": [
    "## How much is True?\n",
    "In Python, if a statement is True, it can be represented either by a 1, or the word \"True.\"  Similarly, if a statement if False, it can be represented either by a 0, or the word \"False.\"  \n",
    "\n",
    "Look at this list of statements and make sure you understand why each line is evaluated the way that it is before proceeding."
   ]
  },
  {
   "cell_type": "code",
   "execution_count": 15,
   "metadata": {
    "collapsed": false
   },
   "outputs": [
    {
     "data": {
      "text/plain": [
       "True"
      ]
     },
     "execution_count": 15,
     "metadata": {},
     "output_type": "execute_result"
    }
   ],
   "source": [
    "1 == 1"
   ]
  },
  {
   "cell_type": "code",
   "execution_count": 16,
   "metadata": {
    "collapsed": false
   },
   "outputs": [
    {
     "data": {
      "text/plain": [
       "True"
      ]
     },
     "execution_count": 16,
     "metadata": {},
     "output_type": "execute_result"
    }
   ],
   "source": [
    "(1 == 1) == 1"
   ]
  },
  {
   "cell_type": "code",
   "execution_count": 17,
   "metadata": {
    "collapsed": false
   },
   "outputs": [
    {
     "data": {
      "text/plain": [
       "True"
      ]
     },
     "execution_count": 17,
     "metadata": {},
     "output_type": "execute_result"
    }
   ],
   "source": [
    "(1 == 1) == True"
   ]
  },
  {
   "cell_type": "code",
   "execution_count": 18,
   "metadata": {
    "collapsed": false
   },
   "outputs": [
    {
     "data": {
      "text/plain": [
       "False"
      ]
     },
     "execution_count": 18,
     "metadata": {},
     "output_type": "execute_result"
    }
   ],
   "source": [
    "1 != 1"
   ]
  },
  {
   "cell_type": "code",
   "execution_count": 19,
   "metadata": {
    "collapsed": false
   },
   "outputs": [
    {
     "data": {
      "text/plain": [
       "True"
      ]
     },
     "execution_count": 19,
     "metadata": {},
     "output_type": "execute_result"
    }
   ],
   "source": [
    "(1 != 1) == 0"
   ]
  },
  {
   "cell_type": "code",
   "execution_count": 20,
   "metadata": {
    "collapsed": false
   },
   "outputs": [
    {
     "data": {
      "text/plain": [
       "True"
      ]
     },
     "execution_count": 20,
     "metadata": {},
     "output_type": "execute_result"
    }
   ],
   "source": [
    "(1 != 1) == False"
   ]
  },
  {
   "cell_type": "code",
   "execution_count": 21,
   "metadata": {
    "collapsed": false
   },
   "outputs": [
    {
     "data": {
      "text/plain": [
       "True"
      ]
     },
     "execution_count": 21,
     "metadata": {},
     "output_type": "execute_result"
    }
   ],
   "source": [
    "True == 1"
   ]
  },
  {
   "cell_type": "code",
   "execution_count": 22,
   "metadata": {
    "collapsed": false
   },
   "outputs": [
    {
     "data": {
      "text/plain": [
       "True"
      ]
     },
     "execution_count": 22,
     "metadata": {},
     "output_type": "execute_result"
    }
   ],
   "source": [
    "False == 0"
   ]
  },
  {
   "cell_type": "markdown",
   "metadata": {},
   "source": [
    "# What's in a name?\n",
    "\n",
    "A common pitfall for new users of Python arises when trying to copy arrays.  The root of the issue actually lies with how Python names things, or what it means to assign a value to a variable.  \n",
    "\n",
    "Consider the code below.  We're going to create a small array, assign it to two different variable names and then edit one of those arrays.  Let's see what happens."
   ]
  },
  {
   "cell_type": "code",
   "execution_count": 23,
   "metadata": {
    "collapsed": false
   },
   "outputs": [
    {
     "name": "stdout",
     "output_type": "stream",
     "text": [
      "[1 7 3]\n",
      "[1 7 3]\n"
     ]
    }
   ],
   "source": [
    "a = numpy.array([1, 2, 3])\n",
    "b = a\n",
    "\n",
    "b[1] = 7\n",
    "\n",
    "print(a)\n",
    "print(b)"
   ]
  },
  {
   "cell_type": "markdown",
   "metadata": {},
   "source": [
    "### What?!\n",
    "\n",
    "What happened? We changed the middle value of our second array, but it somehow also changed the first array?  How can that be?  \n",
    "\n",
    "The critical line in the code above is line 2.  That's where all the trouble starts.  The idea is that when we type\n",
    "```\n",
    "b = a\n",
    "```\n",
    "we aren't telling Python to copy the array, we're just assigning another name to the same array. That is, the names '`a`' and '`b`' both point to the same array in memory. So whether we use the name '`a`' to change the values, or the name '`b`', it doesn't make a difference!\n",
    "\n",
    "** You *will* make this mistake.** I have. The best you can hope for is that you notice it and fix it!\n",
    "\n",
    "### A proper copy\n",
    "\n",
    "Sometimes we most definitely want to be able to copy arrays. Look at the code below, which is almost exactly the same as the above example, except for line 2.  "
   ]
  },
  {
   "cell_type": "code",
   "execution_count": 24,
   "metadata": {
    "collapsed": false
   },
   "outputs": [
    {
     "name": "stdout",
     "output_type": "stream",
     "text": [
      "[1 2 3]\n",
      "[1 7 3]\n"
     ]
    }
   ],
   "source": [
    "a = numpy.array([1, 2, 3])\n",
    "b = a.copy()\n",
    "\n",
    "b[1] = 7\n",
    "\n",
    "print(a)\n",
    "print(b)"
   ]
  },
  {
   "cell_type": "markdown",
   "metadata": {},
   "source": [
    "This unit is remixed & modded from the MOOC \"[Practical Numerical Methods with Python](http://openedx.seas.gwu.edu/courses/GW/MAE6286/2014_fall)\" by L. Barba."
   ]
  },
  {
   "cell_type": "code",
   "execution_count": null,
   "metadata": {
    "collapsed": true
   },
   "outputs": [],
   "source": []
  }
 ],
 "metadata": {
  "kernelspec": {
   "display_name": "Python 2",
   "language": "python",
   "name": "python2"
  },
  "language_info": {
   "codemirror_mode": {
    "name": "ipython",
    "version": 2
   },
   "file_extension": ".py",
   "mimetype": "text/x-python",
   "name": "python",
   "nbconvert_exporter": "python",
   "pygments_lexer": "ipython2",
   "version": "2.7.11"
  }
 },
 "nbformat": 4,
 "nbformat_minor": 0
}
