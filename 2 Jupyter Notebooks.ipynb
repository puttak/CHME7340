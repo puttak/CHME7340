{
 "cells": [
  {
   "cell_type": "markdown",
   "metadata": {},
   "source": [
    "# 2. Jupyter Notebooks\n",
    "\n",
    "## What is the Jupyter Notebook?\n",
    "We'll work extensively with [Jupyter Notebooks](https://jupyter-notebook.readthedocs.org/en/latest/notebook.html) (formerly IPython Notebooks) in this course. They are media-rich documents that combine text with markown formatting, typeset mathematics with MathJax, and executable Python statements.\n",
    "\n",
    "The best way to understand the notebooks is to try them out, so let's get started!\n",
    "\n",
    "## Launching the notebook server\n",
    "\n",
    "Depending how you installed things, you may have a *Jupyter Notebook* shortcut directly in your Start menu (eg. Anaconda on Windows). If not, to launch the notebook server, first open up a terminal (then change into the directory where you want to store your notebooks) and then enter\n",
    "\n",
    "```Bash\n",
    "jupyter notebook\n",
    "```\n",
    "\n",
    "This will start the notebook server.  It *should* automatically open the main page of the notebook server in your default browser, but if it doesn't, simply open the browser of your choice and enter\n",
    "\n",
    "```\n",
    "http://localhost:8888/tree\n",
    "```\n",
    "\n",
    "in the address bar.  \n",
    "\n",
    "This will bring up a simple file-browser that will show the contents of the directory where you've launched the terminal from.  Click on the `New Notebook` button and then select **Python 3** at the bottom to create your first notebook.\n",
    "\n",
    "![newnotebook](./images/newnotebook.gif)\n",
    "\n",
    "For more help launching Jupyter Notebooks, including controlling which directory it is in, see [these instructions](http://jupyter-notebook-beginner-guide.readthedocs.io/en/latest/execute.html)"
   ]
  },
  {
   "cell_type": "markdown",
   "metadata": {},
   "source": [
    "## Executing a code cell\n",
    "\n",
    "Below the toolbars, you'll see a single code cell, prepended with `In [ ]:`.  This cell can contain an arbitrarily long code segment, but we'll start with a simple one liner.  In that lone code cell, type\n",
    "\n",
    "```Python\n",
    "x = 5\n",
    "```\n",
    "\n",
    "and then hit *Shift+Enter*.  If you just hit Enter you'll find that it will simply add another line to the current cell.  So remember, **to execute a cell**, it's **Shift+Enter**.  \n",
    "\n",
    "So what happened?  We've assigned the label x to the number 5.  And also you should see that the label of that cell will now read `In[1]:` because that's the first statement we've executed in this Python kernel.  You'll also notice that the notebook has created a new cell, since we already used the only existing cell.  \n",
    "\n",
    "In this new cell, let's try to print out the value we assigned to x, so enter\n",
    "\n",
    "\n",
    "```Python\n",
    "print(x)\n",
    "```\n",
    "\n",
    "and then hit **Shift+Enter**.  And there's the output we expect!  The cell gets labeled `In[2]:` and the output of that command is printed immediately below the cell.\n",
    "\n",
    "The whole procedure should look something like this:\n",
    "\n",
    "![runandprint](./images/runandprint.gif)"
   ]
  },
  {
   "cell_type": "markdown",
   "metadata": {},
   "source": [
    "## The Kernel\n",
    "Don't worry too much about what the \"kernel\" is, but the main point to remember here is that we can assign a variable in one cell but still access it in a separate cell.  The cells are ways for *us* to divide up our thoughts and our code, but everything is connected underneath.  "
   ]
  },
  {
   "cell_type": "markdown",
   "metadata": {},
   "source": [
    "## Overwriting variables\n",
    "\n",
    "Since each cell is interacting with the same Python instance, if we give `x` a new value and then enter `print(x)` we'll get that new value.  That's pretty straight forward —but what if we then delete the cell where we gave `x` a new value?\n",
    "\n",
    "Let's take a look!\n",
    "\n",
    "![overwrite](./images/overwrite.gif)\n",
    "\n",
    "Even though we deleted the cell where we assigned `x = 7`, the assignment is still valid.  In fact, the assignment will remain valid until we explicitly execute a cell that sets x equal to a new value, or until we completely restart this Jupyter Notebook instance.\n",
    "\n",
    "If you move cells around or execute them in a nosequential order, you might confuse yourself (and others). To start again and clear things up, use the <i class=\"fa-repeat fa\"></i> button or the Kernel menu to clear outputs and restart the kernel, then choose \"Run All\" from the Cell menu."
   ]
  },
  {
   "cell_type": "markdown",
   "metadata": {},
   "source": [
    "## Markdown Math\n",
    "\n",
    "Markdown can do more than just render simple text, it can also render LaTeX-style equations like $-r_A = \\frac{k C_A^2}{C_B + C_D}$ using **MathJax**!\n",
    "\n",
    "\n",
    "\n",
    "* For inline math, wrap LaTeX inside single `$` signs\n",
    "`$...$`\n",
    "* For single-line rendering, wrap LaTeX inside double `$$` signs\n",
    "`$$...$$`\n",
    "\n",
    "![mathjax](./images/mathjax.gif)\n",
    "\n",
    "**Note:**\n",
    "\n",
    "Be aware that math typesetting is handled by MathJax and not by LaTeX.  While the vast majority of MathJax syntax is identical to $\\LaTeX$, there are a few small differences (especially when it comes to matrix commands).  So if you find something doesn't typeset the way you expect, Google around to make sure you're using the correct command."
   ]
  },
  {
   "cell_type": "markdown",
   "metadata": {},
   "source": [
    "## More Markdown Syntax\n",
    "There are several references to learn Markdown tricks, but we especially like the summary by [John Gruber](http://daringfireball.net/projects/markdown/syntax).  A few features that we find particularly useful are listed below.\n",
    "\n",
    "For italics, wrap text in single `*`: `*this will be italic*` \n",
    "For bold, wrap text in double `**`: `**this will be bold**`\n",
    "For a bulleted list, start the line with an `*`, then type a space followed by the bullet item\n",
    "```\n",
    "* list item\n",
    "* another list item\n",
    "* and another\n",
    "```"
   ]
  },
  {
   "cell_type": "markdown",
   "metadata": {},
   "source": [
    "## Moving Cells Around\n",
    "You'll often find that you want to add or delete cells, or just move them around.  To move a cell, just click on it to select it, then use the Up- and Down-arrows in the toolbar to change the position of the cell.\n",
    "\n",
    "![movecells](./images/movingcells.gif)\n",
    "\n",
    "To add a cell, you can click the + button in the toolbar.  Once you're comfortable with the notebook layout, you can also click on Help -> Keyboard Shortcuts to find out various shortcuts for adding, deleting and managing cell position and type.  \n"
   ]
  },
  {
   "cell_type": "markdown",
   "metadata": {},
   "source": [
    "All these lesson modules are Jupyter Notebooks. From now on, you should download the Notebook and run it yourself, so you can interact with it and change the cells, rather than just reading it passively.\n",
    "If you're viewing this via the [jupyter nbviewer](http://nbviewer.jupyter.org/) then look for the download button in the top right: <span class=\"fa fa-download fa-2x menu-icon\"></span>"
   ]
  },
  {
   "cell_type": "markdown",
   "metadata": {},
   "source": [
    "<hr/>This notebook is remixed & modded from the MOOC \"[Practical Numerical Methods with Python](http://openedx.seas.gwu.edu/courses/GW/MAE6286/2014_fall)\" by L. Barba."
   ]
  }
 ],
 "metadata": {
  "kernelspec": {
   "display_name": "Python 2",
   "language": "python",
   "name": "python2"
  },
  "language_info": {
   "codemirror_mode": {
    "name": "ipython",
    "version": 2
   },
   "file_extension": ".py",
   "mimetype": "text/x-python",
   "name": "python",
   "nbconvert_exporter": "python",
   "pygments_lexer": "ipython2",
   "version": "2.7.11"
  }
 },
 "nbformat": 4,
 "nbformat_minor": 0
}
